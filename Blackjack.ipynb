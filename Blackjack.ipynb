{
 "cells": [
  {
   "cell_type": "markdown",
   "metadata": {},
   "source": [
    "## Python Blackjack\n",
    "For this project you will make a Blackjack game using Python. Click <a href=\"https://en.wikipedia.org/wiki/Blackjack\" target=\"_blank\">here</a> to familiarize yourself with the the rules of the game. You won't be implementing every rule \"down to the letter\" with the game, but we will doing a simpler version of the game. This assignment will be given to further test your knowledge on object-oriented programming concepts.\n",
    "\n",
    "### Rules:\n",
    "\n",
    "`1. ` The game will have two players: the Dealer and the Player. The game will start off with a deck of 52 cards. The 52 cards will consist of 4 different suits: Clubs, Diamonds, Hearts and Spades. For each suit, there will be cards numbered 1 through 13. <br>\n",
    "**Note: No wildcards will be used in the program**\n",
    "\n",
    "`2. ` When the game begins, the dealer will shuffle the deck of cards, making them randomized. After the dealer shuffles, it will deal the player 2 cards and will deal itself 2 cards from. The Player should be able to see both of their own cards, but should only be able to see one of the Dealer's cards.\n",
    " \n",
    "`3. ` The objective of the game is for the Player to count their cards after they're dealt. If they're not satisfied with the number, they have the ability to 'Hit'. A hit allows the dealer to deal the Player one additional card. The Player can hit as many times as they'd like as long as they don't 'Bust'. A bust is when the Player is dealt cards that total more than 21.\n",
    "\n",
    "`4. ` If the dealer deals the Player cards equal to 21 on the **first** deal, the Player wins. This is referred to as Blackjack. Blackjack is **NOT** the same as getting cards that equal up to 21 after the first deal. Blackjack can only be attained on the first deal.\n",
    "\n",
    "`5. ` The Player will never see the Dealer's hand until the Player chooses to 'stand'. A Stand is when the player tells the dealer to not deal it anymore cards. Once the player chooses to Stand, the Player and the Dealer will compare their hands. Whoever has the higher number wins. Keep in mind that the Dealer can also bust. "
   ]
  },
  {
   "cell_type": "code",
   "execution_count": null,
   "metadata": {},
   "outputs": [],
   "source": []
  },
  {
   "cell_type": "code",
   "execution_count": 59,
   "metadata": {},
   "outputs": [
    {
     "name": "stdout",
     "output_type": "stream",
     "text": [
      "[(7, 'Diamonds', 8, 'Diamonds'), (13, 'Spades')]\n",
      "[(7, 'Diamonds', 8, 'Diamonds'), (13, 'Spades'), (2, 'Clubs')]\n",
      "[(7, 'Diamonds', 8, 'Diamonds'), (13, 'Spades'), (2, 'Clubs'), (3, 'Hearts')]\n"
     ]
    }
   ],
   "source": [
    "import random\n",
    "from IPython.display import clear_output\n",
    "\n",
    "\n",
    "\n",
    "class Deck:\n",
    "   \n",
    "    def __init__(self, deck):\n",
    "        self.deck = deck\n",
    "        \n",
    "    def deal_cards():\n",
    "        suits = ['Spades', 'Clubs', 'Hearts', \"Diamonds\"]\n",
    "        ranks = list(range(1, 14))\n",
    "        deck = [(rank, suit) for rank in ranks for suit in suits]\n",
    "        return deck.pop(random.randrange(len(deck)))\n",
    "    \n",
    "    def opening_deal():\n",
    "        return Deck.deal_cards() + Deck.deal_cards()\n",
    "    \n",
    "   \n",
    "  \n",
    "\n",
    "        \n",
    "        \n",
    "        \n",
    "        \n",
    "        \n",
    "class Player:\n",
    "    def __init__(self, set_1 , set_d):\n",
    "        self.set_1 = set_1\n",
    "        self.set_2 = set_d\n",
    "\n",
    "class Dealer(Player):\n",
    "    pass\n",
    "\n",
    "class Human(Player):\n",
    "    set_1 = []\n",
    "    def __init__(self, set_1, set_d):\n",
    "        super().__init__(set_1, set_d)\n",
    "   \n",
    "    def set_hand():\n",
    "        Human.set_1.append(Deck.opening_deal())\n",
    "        return Human.set_1\n",
    "    def set_hand_2():\n",
    "        Human.set_1.append(Deck.deal_cards())\n",
    "        print(Human.set_1)\n",
    "     \n",
    "    \n",
    "class Game:\n",
    "    #def __init__(self):\n",
    "    \n",
    "    \n",
    "    def main():\n",
    "        pass\n",
    "        \n",
    "\n",
    "    \n",
    "    \n",
    "    \n",
    "    \n",
    "  \n",
    "    \n",
    "    \n",
    "    \n",
    "    \n",
    "    \n",
    "\n",
    "Human.set_hand()\n",
    "Human.set_hand_2()\n",
    "Human.set_hand_2()\n",
    "Human.set_hand_2()"
   ]
  },
  {
   "cell_type": "code",
   "execution_count": null,
   "metadata": {},
   "outputs": [],
   "source": []
  },
  {
   "cell_type": "code",
   "execution_count": null,
   "metadata": {},
   "outputs": [],
   "source": []
  },
  {
   "cell_type": "code",
   "execution_count": null,
   "metadata": {},
   "outputs": [],
   "source": []
  },
  {
   "cell_type": "code",
   "execution_count": null,
   "metadata": {},
   "outputs": [],
   "source": []
  },
  {
   "cell_type": "code",
   "execution_count": null,
   "metadata": {},
   "outputs": [],
   "source": []
  },
  {
   "cell_type": "code",
   "execution_count": null,
   "metadata": {},
   "outputs": [],
   "source": []
  },
  {
   "cell_type": "code",
   "execution_count": null,
   "metadata": {},
   "outputs": [],
   "source": []
  },
  {
   "cell_type": "code",
   "execution_count": null,
   "metadata": {},
   "outputs": [],
   "source": []
  },
  {
   "cell_type": "code",
   "execution_count": null,
   "metadata": {},
   "outputs": [],
   "source": []
  }
 ],
 "metadata": {
  "kernelspec": {
   "display_name": "Python 3",
   "language": "python",
   "name": "python3"
  },
  "language_info": {
   "codemirror_mode": {
    "name": "ipython",
    "version": 3
   },
   "file_extension": ".py",
   "mimetype": "text/x-python",
   "name": "python",
   "nbconvert_exporter": "python",
   "pygments_lexer": "ipython3",
   "version": "3.7.6"
  }
 },
 "nbformat": 4,
 "nbformat_minor": 2
}
